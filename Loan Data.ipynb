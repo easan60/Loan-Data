{
 "cells": [
  {
   "cell_type": "code",
   "execution_count": 1,
   "id": "f7f8a374",
   "metadata": {},
   "outputs": [],
   "source": [
    "import pandas as pd\n",
    "import numpy as np\n",
    "import matplotlib.pyplot as plt\n",
    "import seaborn as sns\n",
    "import warnings\n",
    "warnings.filterwarnings(\"ignore\")"
   ]
  },
  {
   "cell_type": "code",
   "execution_count": 2,
   "id": "394ee7ee",
   "metadata": {},
   "outputs": [],
   "source": [
    "df=pd.read_csv(\"loan_data.csv\")"
   ]
  },
  {
   "cell_type": "code",
   "execution_count": 3,
   "id": "afcb51a4",
   "metadata": {},
   "outputs": [
    {
     "data": {
      "text/html": [
       "<div>\n",
       "<style scoped>\n",
       "    .dataframe tbody tr th:only-of-type {\n",
       "        vertical-align: middle;\n",
       "    }\n",
       "\n",
       "    .dataframe tbody tr th {\n",
       "        vertical-align: top;\n",
       "    }\n",
       "\n",
       "    .dataframe thead th {\n",
       "        text-align: right;\n",
       "    }\n",
       "</style>\n",
       "<table border=\"1\" class=\"dataframe\">\n",
       "  <thead>\n",
       "    <tr style=\"text-align: right;\">\n",
       "      <th></th>\n",
       "      <th>credit.policy</th>\n",
       "      <th>purpose</th>\n",
       "      <th>int.rate</th>\n",
       "      <th>installment</th>\n",
       "      <th>log.annual.inc</th>\n",
       "      <th>dti</th>\n",
       "      <th>fico</th>\n",
       "      <th>days.with.cr.line</th>\n",
       "      <th>revol.bal</th>\n",
       "      <th>revol.util</th>\n",
       "      <th>inq.last.6mths</th>\n",
       "      <th>delinq.2yrs</th>\n",
       "      <th>pub.rec</th>\n",
       "      <th>not.fully.paid</th>\n",
       "    </tr>\n",
       "  </thead>\n",
       "  <tbody>\n",
       "    <tr>\n",
       "      <th>0</th>\n",
       "      <td>1</td>\n",
       "      <td>debt_consolidation</td>\n",
       "      <td>0.1189</td>\n",
       "      <td>829.10</td>\n",
       "      <td>11.350407</td>\n",
       "      <td>19.48</td>\n",
       "      <td>737</td>\n",
       "      <td>5639.958333</td>\n",
       "      <td>28854</td>\n",
       "      <td>52.1</td>\n",
       "      <td>0</td>\n",
       "      <td>0</td>\n",
       "      <td>0</td>\n",
       "      <td>0</td>\n",
       "    </tr>\n",
       "    <tr>\n",
       "      <th>1</th>\n",
       "      <td>1</td>\n",
       "      <td>credit_card</td>\n",
       "      <td>0.1071</td>\n",
       "      <td>228.22</td>\n",
       "      <td>11.082143</td>\n",
       "      <td>14.29</td>\n",
       "      <td>707</td>\n",
       "      <td>2760.000000</td>\n",
       "      <td>33623</td>\n",
       "      <td>76.7</td>\n",
       "      <td>0</td>\n",
       "      <td>0</td>\n",
       "      <td>0</td>\n",
       "      <td>0</td>\n",
       "    </tr>\n",
       "    <tr>\n",
       "      <th>2</th>\n",
       "      <td>1</td>\n",
       "      <td>debt_consolidation</td>\n",
       "      <td>0.1357</td>\n",
       "      <td>366.86</td>\n",
       "      <td>10.373491</td>\n",
       "      <td>11.63</td>\n",
       "      <td>682</td>\n",
       "      <td>4710.000000</td>\n",
       "      <td>3511</td>\n",
       "      <td>25.6</td>\n",
       "      <td>1</td>\n",
       "      <td>0</td>\n",
       "      <td>0</td>\n",
       "      <td>0</td>\n",
       "    </tr>\n",
       "    <tr>\n",
       "      <th>3</th>\n",
       "      <td>1</td>\n",
       "      <td>debt_consolidation</td>\n",
       "      <td>0.1008</td>\n",
       "      <td>162.34</td>\n",
       "      <td>11.350407</td>\n",
       "      <td>8.10</td>\n",
       "      <td>712</td>\n",
       "      <td>2699.958333</td>\n",
       "      <td>33667</td>\n",
       "      <td>73.2</td>\n",
       "      <td>1</td>\n",
       "      <td>0</td>\n",
       "      <td>0</td>\n",
       "      <td>0</td>\n",
       "    </tr>\n",
       "    <tr>\n",
       "      <th>4</th>\n",
       "      <td>1</td>\n",
       "      <td>credit_card</td>\n",
       "      <td>0.1426</td>\n",
       "      <td>102.92</td>\n",
       "      <td>11.299732</td>\n",
       "      <td>14.97</td>\n",
       "      <td>667</td>\n",
       "      <td>4066.000000</td>\n",
       "      <td>4740</td>\n",
       "      <td>39.5</td>\n",
       "      <td>0</td>\n",
       "      <td>1</td>\n",
       "      <td>0</td>\n",
       "      <td>0</td>\n",
       "    </tr>\n",
       "  </tbody>\n",
       "</table>\n",
       "</div>"
      ],
      "text/plain": [
       "   credit.policy             purpose  int.rate  installment  log.annual.inc  \\\n",
       "0              1  debt_consolidation    0.1189       829.10       11.350407   \n",
       "1              1         credit_card    0.1071       228.22       11.082143   \n",
       "2              1  debt_consolidation    0.1357       366.86       10.373491   \n",
       "3              1  debt_consolidation    0.1008       162.34       11.350407   \n",
       "4              1         credit_card    0.1426       102.92       11.299732   \n",
       "\n",
       "     dti  fico  days.with.cr.line  revol.bal  revol.util  inq.last.6mths  \\\n",
       "0  19.48   737        5639.958333      28854        52.1               0   \n",
       "1  14.29   707        2760.000000      33623        76.7               0   \n",
       "2  11.63   682        4710.000000       3511        25.6               1   \n",
       "3   8.10   712        2699.958333      33667        73.2               1   \n",
       "4  14.97   667        4066.000000       4740        39.5               0   \n",
       "\n",
       "   delinq.2yrs  pub.rec  not.fully.paid  \n",
       "0            0        0               0  \n",
       "1            0        0               0  \n",
       "2            0        0               0  \n",
       "3            0        0               0  \n",
       "4            1        0               0  "
      ]
     },
     "execution_count": 3,
     "metadata": {},
     "output_type": "execute_result"
    }
   ],
   "source": [
    "df.head()"
   ]
  },
  {
   "cell_type": "code",
   "execution_count": 4,
   "id": "e32eb7aa",
   "metadata": {},
   "outputs": [
    {
     "data": {
      "text/html": [
       "<div>\n",
       "<style scoped>\n",
       "    .dataframe tbody tr th:only-of-type {\n",
       "        vertical-align: middle;\n",
       "    }\n",
       "\n",
       "    .dataframe tbody tr th {\n",
       "        vertical-align: top;\n",
       "    }\n",
       "\n",
       "    .dataframe thead th {\n",
       "        text-align: right;\n",
       "    }\n",
       "</style>\n",
       "<table border=\"1\" class=\"dataframe\">\n",
       "  <thead>\n",
       "    <tr style=\"text-align: right;\">\n",
       "      <th></th>\n",
       "      <th>credit.policy</th>\n",
       "      <th>purpose</th>\n",
       "      <th>int.rate</th>\n",
       "      <th>installment</th>\n",
       "      <th>log.annual.inc</th>\n",
       "      <th>dti</th>\n",
       "      <th>fico</th>\n",
       "      <th>days.with.cr.line</th>\n",
       "      <th>revol.bal</th>\n",
       "      <th>revol.util</th>\n",
       "      <th>inq.last.6mths</th>\n",
       "      <th>delinq.2yrs</th>\n",
       "      <th>pub.rec</th>\n",
       "      <th>not.fully.paid</th>\n",
       "    </tr>\n",
       "  </thead>\n",
       "  <tbody>\n",
       "    <tr>\n",
       "      <th>9573</th>\n",
       "      <td>0</td>\n",
       "      <td>all_other</td>\n",
       "      <td>0.1461</td>\n",
       "      <td>344.76</td>\n",
       "      <td>12.180755</td>\n",
       "      <td>10.39</td>\n",
       "      <td>672</td>\n",
       "      <td>10474.000000</td>\n",
       "      <td>215372</td>\n",
       "      <td>82.1</td>\n",
       "      <td>2</td>\n",
       "      <td>0</td>\n",
       "      <td>0</td>\n",
       "      <td>1</td>\n",
       "    </tr>\n",
       "    <tr>\n",
       "      <th>9574</th>\n",
       "      <td>0</td>\n",
       "      <td>all_other</td>\n",
       "      <td>0.1253</td>\n",
       "      <td>257.70</td>\n",
       "      <td>11.141862</td>\n",
       "      <td>0.21</td>\n",
       "      <td>722</td>\n",
       "      <td>4380.000000</td>\n",
       "      <td>184</td>\n",
       "      <td>1.1</td>\n",
       "      <td>5</td>\n",
       "      <td>0</td>\n",
       "      <td>0</td>\n",
       "      <td>1</td>\n",
       "    </tr>\n",
       "    <tr>\n",
       "      <th>9575</th>\n",
       "      <td>0</td>\n",
       "      <td>debt_consolidation</td>\n",
       "      <td>0.1071</td>\n",
       "      <td>97.81</td>\n",
       "      <td>10.596635</td>\n",
       "      <td>13.09</td>\n",
       "      <td>687</td>\n",
       "      <td>3450.041667</td>\n",
       "      <td>10036</td>\n",
       "      <td>82.9</td>\n",
       "      <td>8</td>\n",
       "      <td>0</td>\n",
       "      <td>0</td>\n",
       "      <td>1</td>\n",
       "    </tr>\n",
       "    <tr>\n",
       "      <th>9576</th>\n",
       "      <td>0</td>\n",
       "      <td>home_improvement</td>\n",
       "      <td>0.1600</td>\n",
       "      <td>351.58</td>\n",
       "      <td>10.819778</td>\n",
       "      <td>19.18</td>\n",
       "      <td>692</td>\n",
       "      <td>1800.000000</td>\n",
       "      <td>0</td>\n",
       "      <td>3.2</td>\n",
       "      <td>5</td>\n",
       "      <td>0</td>\n",
       "      <td>0</td>\n",
       "      <td>1</td>\n",
       "    </tr>\n",
       "    <tr>\n",
       "      <th>9577</th>\n",
       "      <td>0</td>\n",
       "      <td>debt_consolidation</td>\n",
       "      <td>0.1392</td>\n",
       "      <td>853.43</td>\n",
       "      <td>11.264464</td>\n",
       "      <td>16.28</td>\n",
       "      <td>732</td>\n",
       "      <td>4740.000000</td>\n",
       "      <td>37879</td>\n",
       "      <td>57.0</td>\n",
       "      <td>6</td>\n",
       "      <td>0</td>\n",
       "      <td>0</td>\n",
       "      <td>1</td>\n",
       "    </tr>\n",
       "  </tbody>\n",
       "</table>\n",
       "</div>"
      ],
      "text/plain": [
       "      credit.policy             purpose  int.rate  installment  \\\n",
       "9573              0           all_other    0.1461       344.76   \n",
       "9574              0           all_other    0.1253       257.70   \n",
       "9575              0  debt_consolidation    0.1071        97.81   \n",
       "9576              0    home_improvement    0.1600       351.58   \n",
       "9577              0  debt_consolidation    0.1392       853.43   \n",
       "\n",
       "      log.annual.inc    dti  fico  days.with.cr.line  revol.bal  revol.util  \\\n",
       "9573       12.180755  10.39   672       10474.000000     215372        82.1   \n",
       "9574       11.141862   0.21   722        4380.000000        184         1.1   \n",
       "9575       10.596635  13.09   687        3450.041667      10036        82.9   \n",
       "9576       10.819778  19.18   692        1800.000000          0         3.2   \n",
       "9577       11.264464  16.28   732        4740.000000      37879        57.0   \n",
       "\n",
       "      inq.last.6mths  delinq.2yrs  pub.rec  not.fully.paid  \n",
       "9573               2            0        0               1  \n",
       "9574               5            0        0               1  \n",
       "9575               8            0        0               1  \n",
       "9576               5            0        0               1  \n",
       "9577               6            0        0               1  "
      ]
     },
     "execution_count": 4,
     "metadata": {},
     "output_type": "execute_result"
    }
   ],
   "source": [
    "df.tail()"
   ]
  },
  {
   "cell_type": "code",
   "execution_count": 5,
   "id": "c5adbd6e",
   "metadata": {},
   "outputs": [
    {
     "name": "stdout",
     "output_type": "stream",
     "text": [
      "<class 'pandas.core.frame.DataFrame'>\n",
      "RangeIndex: 9578 entries, 0 to 9577\n",
      "Data columns (total 14 columns):\n",
      " #   Column             Non-Null Count  Dtype  \n",
      "---  ------             --------------  -----  \n",
      " 0   credit.policy      9578 non-null   int64  \n",
      " 1   purpose            9578 non-null   object \n",
      " 2   int.rate           9578 non-null   float64\n",
      " 3   installment        9578 non-null   float64\n",
      " 4   log.annual.inc     9578 non-null   float64\n",
      " 5   dti                9578 non-null   float64\n",
      " 6   fico               9578 non-null   int64  \n",
      " 7   days.with.cr.line  9578 non-null   float64\n",
      " 8   revol.bal          9578 non-null   int64  \n",
      " 9   revol.util         9578 non-null   float64\n",
      " 10  inq.last.6mths     9578 non-null   int64  \n",
      " 11  delinq.2yrs        9578 non-null   int64  \n",
      " 12  pub.rec            9578 non-null   int64  \n",
      " 13  not.fully.paid     9578 non-null   int64  \n",
      "dtypes: float64(6), int64(7), object(1)\n",
      "memory usage: 1.0+ MB\n"
     ]
    }
   ],
   "source": [
    "df.info()"
   ]
  },
  {
   "cell_type": "code",
   "execution_count": 10,
   "id": "5fcc93c6",
   "metadata": {},
   "outputs": [
    {
     "data": {
      "text/plain": [
       "(9578, 14)"
      ]
     },
     "execution_count": 10,
     "metadata": {},
     "output_type": "execute_result"
    }
   ],
   "source": [
    "df.shape"
   ]
  },
  {
   "cell_type": "code",
   "execution_count": 11,
   "id": "864aaa46",
   "metadata": {},
   "outputs": [
    {
     "data": {
      "text/plain": [
       "credit.policy        0\n",
       "purpose              0\n",
       "int.rate             0\n",
       "installment          0\n",
       "log.annual.inc       0\n",
       "dti                  0\n",
       "fico                 0\n",
       "days.with.cr.line    0\n",
       "revol.bal            0\n",
       "revol.util           0\n",
       "inq.last.6mths       0\n",
       "delinq.2yrs          0\n",
       "pub.rec              0\n",
       "not.fully.paid       0\n",
       "dtype: int64"
      ]
     },
     "execution_count": 11,
     "metadata": {},
     "output_type": "execute_result"
    }
   ],
   "source": [
    "df.isnull().sum()"
   ]
  },
  {
   "cell_type": "code",
   "execution_count": 6,
   "id": "1ff584c7",
   "metadata": {},
   "outputs": [
    {
     "data": {
      "text/html": [
       "<div>\n",
       "<style scoped>\n",
       "    .dataframe tbody tr th:only-of-type {\n",
       "        vertical-align: middle;\n",
       "    }\n",
       "\n",
       "    .dataframe tbody tr th {\n",
       "        vertical-align: top;\n",
       "    }\n",
       "\n",
       "    .dataframe thead th {\n",
       "        text-align: right;\n",
       "    }\n",
       "</style>\n",
       "<table border=\"1\" class=\"dataframe\">\n",
       "  <thead>\n",
       "    <tr style=\"text-align: right;\">\n",
       "      <th></th>\n",
       "      <th>credit.policy</th>\n",
       "      <th>int.rate</th>\n",
       "      <th>installment</th>\n",
       "      <th>log.annual.inc</th>\n",
       "      <th>dti</th>\n",
       "      <th>fico</th>\n",
       "      <th>days.with.cr.line</th>\n",
       "      <th>revol.bal</th>\n",
       "      <th>revol.util</th>\n",
       "      <th>inq.last.6mths</th>\n",
       "      <th>delinq.2yrs</th>\n",
       "      <th>pub.rec</th>\n",
       "      <th>not.fully.paid</th>\n",
       "    </tr>\n",
       "  </thead>\n",
       "  <tbody>\n",
       "    <tr>\n",
       "      <th>count</th>\n",
       "      <td>9578.000000</td>\n",
       "      <td>9578.000000</td>\n",
       "      <td>9578.000000</td>\n",
       "      <td>9578.000000</td>\n",
       "      <td>9578.000000</td>\n",
       "      <td>9578.000000</td>\n",
       "      <td>9578.000000</td>\n",
       "      <td>9.578000e+03</td>\n",
       "      <td>9578.000000</td>\n",
       "      <td>9578.000000</td>\n",
       "      <td>9578.000000</td>\n",
       "      <td>9578.000000</td>\n",
       "      <td>9578.000000</td>\n",
       "    </tr>\n",
       "    <tr>\n",
       "      <th>mean</th>\n",
       "      <td>0.804970</td>\n",
       "      <td>0.122640</td>\n",
       "      <td>319.089413</td>\n",
       "      <td>10.932117</td>\n",
       "      <td>12.606679</td>\n",
       "      <td>710.846314</td>\n",
       "      <td>4560.767197</td>\n",
       "      <td>1.691396e+04</td>\n",
       "      <td>46.799236</td>\n",
       "      <td>1.577469</td>\n",
       "      <td>0.163708</td>\n",
       "      <td>0.062122</td>\n",
       "      <td>0.160054</td>\n",
       "    </tr>\n",
       "    <tr>\n",
       "      <th>std</th>\n",
       "      <td>0.396245</td>\n",
       "      <td>0.026847</td>\n",
       "      <td>207.071301</td>\n",
       "      <td>0.614813</td>\n",
       "      <td>6.883970</td>\n",
       "      <td>37.970537</td>\n",
       "      <td>2496.930377</td>\n",
       "      <td>3.375619e+04</td>\n",
       "      <td>29.014417</td>\n",
       "      <td>2.200245</td>\n",
       "      <td>0.546215</td>\n",
       "      <td>0.262126</td>\n",
       "      <td>0.366676</td>\n",
       "    </tr>\n",
       "    <tr>\n",
       "      <th>min</th>\n",
       "      <td>0.000000</td>\n",
       "      <td>0.060000</td>\n",
       "      <td>15.670000</td>\n",
       "      <td>7.547502</td>\n",
       "      <td>0.000000</td>\n",
       "      <td>612.000000</td>\n",
       "      <td>178.958333</td>\n",
       "      <td>0.000000e+00</td>\n",
       "      <td>0.000000</td>\n",
       "      <td>0.000000</td>\n",
       "      <td>0.000000</td>\n",
       "      <td>0.000000</td>\n",
       "      <td>0.000000</td>\n",
       "    </tr>\n",
       "    <tr>\n",
       "      <th>25%</th>\n",
       "      <td>1.000000</td>\n",
       "      <td>0.103900</td>\n",
       "      <td>163.770000</td>\n",
       "      <td>10.558414</td>\n",
       "      <td>7.212500</td>\n",
       "      <td>682.000000</td>\n",
       "      <td>2820.000000</td>\n",
       "      <td>3.187000e+03</td>\n",
       "      <td>22.600000</td>\n",
       "      <td>0.000000</td>\n",
       "      <td>0.000000</td>\n",
       "      <td>0.000000</td>\n",
       "      <td>0.000000</td>\n",
       "    </tr>\n",
       "    <tr>\n",
       "      <th>50%</th>\n",
       "      <td>1.000000</td>\n",
       "      <td>0.122100</td>\n",
       "      <td>268.950000</td>\n",
       "      <td>10.928884</td>\n",
       "      <td>12.665000</td>\n",
       "      <td>707.000000</td>\n",
       "      <td>4139.958333</td>\n",
       "      <td>8.596000e+03</td>\n",
       "      <td>46.300000</td>\n",
       "      <td>1.000000</td>\n",
       "      <td>0.000000</td>\n",
       "      <td>0.000000</td>\n",
       "      <td>0.000000</td>\n",
       "    </tr>\n",
       "    <tr>\n",
       "      <th>75%</th>\n",
       "      <td>1.000000</td>\n",
       "      <td>0.140700</td>\n",
       "      <td>432.762500</td>\n",
       "      <td>11.291293</td>\n",
       "      <td>17.950000</td>\n",
       "      <td>737.000000</td>\n",
       "      <td>5730.000000</td>\n",
       "      <td>1.824950e+04</td>\n",
       "      <td>70.900000</td>\n",
       "      <td>2.000000</td>\n",
       "      <td>0.000000</td>\n",
       "      <td>0.000000</td>\n",
       "      <td>0.000000</td>\n",
       "    </tr>\n",
       "    <tr>\n",
       "      <th>max</th>\n",
       "      <td>1.000000</td>\n",
       "      <td>0.216400</td>\n",
       "      <td>940.140000</td>\n",
       "      <td>14.528354</td>\n",
       "      <td>29.960000</td>\n",
       "      <td>827.000000</td>\n",
       "      <td>17639.958330</td>\n",
       "      <td>1.207359e+06</td>\n",
       "      <td>119.000000</td>\n",
       "      <td>33.000000</td>\n",
       "      <td>13.000000</td>\n",
       "      <td>5.000000</td>\n",
       "      <td>1.000000</td>\n",
       "    </tr>\n",
       "  </tbody>\n",
       "</table>\n",
       "</div>"
      ],
      "text/plain": [
       "       credit.policy     int.rate  installment  log.annual.inc          dti  \\\n",
       "count    9578.000000  9578.000000  9578.000000     9578.000000  9578.000000   \n",
       "mean        0.804970     0.122640   319.089413       10.932117    12.606679   \n",
       "std         0.396245     0.026847   207.071301        0.614813     6.883970   \n",
       "min         0.000000     0.060000    15.670000        7.547502     0.000000   \n",
       "25%         1.000000     0.103900   163.770000       10.558414     7.212500   \n",
       "50%         1.000000     0.122100   268.950000       10.928884    12.665000   \n",
       "75%         1.000000     0.140700   432.762500       11.291293    17.950000   \n",
       "max         1.000000     0.216400   940.140000       14.528354    29.960000   \n",
       "\n",
       "              fico  days.with.cr.line     revol.bal   revol.util  \\\n",
       "count  9578.000000        9578.000000  9.578000e+03  9578.000000   \n",
       "mean    710.846314        4560.767197  1.691396e+04    46.799236   \n",
       "std      37.970537        2496.930377  3.375619e+04    29.014417   \n",
       "min     612.000000         178.958333  0.000000e+00     0.000000   \n",
       "25%     682.000000        2820.000000  3.187000e+03    22.600000   \n",
       "50%     707.000000        4139.958333  8.596000e+03    46.300000   \n",
       "75%     737.000000        5730.000000  1.824950e+04    70.900000   \n",
       "max     827.000000       17639.958330  1.207359e+06   119.000000   \n",
       "\n",
       "       inq.last.6mths  delinq.2yrs      pub.rec  not.fully.paid  \n",
       "count     9578.000000  9578.000000  9578.000000     9578.000000  \n",
       "mean         1.577469     0.163708     0.062122        0.160054  \n",
       "std          2.200245     0.546215     0.262126        0.366676  \n",
       "min          0.000000     0.000000     0.000000        0.000000  \n",
       "25%          0.000000     0.000000     0.000000        0.000000  \n",
       "50%          1.000000     0.000000     0.000000        0.000000  \n",
       "75%          2.000000     0.000000     0.000000        0.000000  \n",
       "max         33.000000    13.000000     5.000000        1.000000  "
      ]
     },
     "execution_count": 6,
     "metadata": {},
     "output_type": "execute_result"
    }
   ],
   "source": [
    "df.describe()"
   ]
  },
  {
   "cell_type": "code",
   "execution_count": 7,
   "id": "5b94b402",
   "metadata": {},
   "outputs": [
    {
     "data": {
      "text/html": [
       "<div>\n",
       "<style scoped>\n",
       "    .dataframe tbody tr th:only-of-type {\n",
       "        vertical-align: middle;\n",
       "    }\n",
       "\n",
       "    .dataframe tbody tr th {\n",
       "        vertical-align: top;\n",
       "    }\n",
       "\n",
       "    .dataframe thead th {\n",
       "        text-align: right;\n",
       "    }\n",
       "</style>\n",
       "<table border=\"1\" class=\"dataframe\">\n",
       "  <thead>\n",
       "    <tr style=\"text-align: right;\">\n",
       "      <th></th>\n",
       "      <th>credit.policy</th>\n",
       "      <th>int.rate</th>\n",
       "      <th>installment</th>\n",
       "      <th>log.annual.inc</th>\n",
       "      <th>dti</th>\n",
       "      <th>fico</th>\n",
       "      <th>days.with.cr.line</th>\n",
       "      <th>revol.bal</th>\n",
       "      <th>revol.util</th>\n",
       "      <th>inq.last.6mths</th>\n",
       "      <th>delinq.2yrs</th>\n",
       "      <th>pub.rec</th>\n",
       "      <th>not.fully.paid</th>\n",
       "    </tr>\n",
       "  </thead>\n",
       "  <tbody>\n",
       "    <tr>\n",
       "      <th>credit.policy</th>\n",
       "      <td>1.000000</td>\n",
       "      <td>-0.294089</td>\n",
       "      <td>0.058770</td>\n",
       "      <td>0.034906</td>\n",
       "      <td>-0.090901</td>\n",
       "      <td>0.348319</td>\n",
       "      <td>0.099026</td>\n",
       "      <td>-0.187518</td>\n",
       "      <td>-0.104095</td>\n",
       "      <td>-0.535511</td>\n",
       "      <td>-0.076318</td>\n",
       "      <td>-0.054243</td>\n",
       "      <td>-0.158119</td>\n",
       "    </tr>\n",
       "    <tr>\n",
       "      <th>int.rate</th>\n",
       "      <td>-0.294089</td>\n",
       "      <td>1.000000</td>\n",
       "      <td>0.276140</td>\n",
       "      <td>0.056383</td>\n",
       "      <td>0.220006</td>\n",
       "      <td>-0.714821</td>\n",
       "      <td>-0.124022</td>\n",
       "      <td>0.092527</td>\n",
       "      <td>0.464837</td>\n",
       "      <td>0.202780</td>\n",
       "      <td>0.156079</td>\n",
       "      <td>0.098162</td>\n",
       "      <td>0.159552</td>\n",
       "    </tr>\n",
       "    <tr>\n",
       "      <th>installment</th>\n",
       "      <td>0.058770</td>\n",
       "      <td>0.276140</td>\n",
       "      <td>1.000000</td>\n",
       "      <td>0.448102</td>\n",
       "      <td>0.050202</td>\n",
       "      <td>0.086039</td>\n",
       "      <td>0.183297</td>\n",
       "      <td>0.233625</td>\n",
       "      <td>0.081356</td>\n",
       "      <td>-0.010419</td>\n",
       "      <td>-0.004368</td>\n",
       "      <td>-0.032760</td>\n",
       "      <td>0.049955</td>\n",
       "    </tr>\n",
       "    <tr>\n",
       "      <th>log.annual.inc</th>\n",
       "      <td>0.034906</td>\n",
       "      <td>0.056383</td>\n",
       "      <td>0.448102</td>\n",
       "      <td>1.000000</td>\n",
       "      <td>-0.054065</td>\n",
       "      <td>0.114576</td>\n",
       "      <td>0.336896</td>\n",
       "      <td>0.372140</td>\n",
       "      <td>0.054881</td>\n",
       "      <td>0.029171</td>\n",
       "      <td>0.029203</td>\n",
       "      <td>0.016506</td>\n",
       "      <td>-0.033439</td>\n",
       "    </tr>\n",
       "    <tr>\n",
       "      <th>dti</th>\n",
       "      <td>-0.090901</td>\n",
       "      <td>0.220006</td>\n",
       "      <td>0.050202</td>\n",
       "      <td>-0.054065</td>\n",
       "      <td>1.000000</td>\n",
       "      <td>-0.241191</td>\n",
       "      <td>0.060101</td>\n",
       "      <td>0.188748</td>\n",
       "      <td>0.337109</td>\n",
       "      <td>0.029189</td>\n",
       "      <td>-0.021792</td>\n",
       "      <td>0.006209</td>\n",
       "      <td>0.037362</td>\n",
       "    </tr>\n",
       "    <tr>\n",
       "      <th>fico</th>\n",
       "      <td>0.348319</td>\n",
       "      <td>-0.714821</td>\n",
       "      <td>0.086039</td>\n",
       "      <td>0.114576</td>\n",
       "      <td>-0.241191</td>\n",
       "      <td>1.000000</td>\n",
       "      <td>0.263880</td>\n",
       "      <td>-0.015553</td>\n",
       "      <td>-0.541289</td>\n",
       "      <td>-0.185293</td>\n",
       "      <td>-0.216340</td>\n",
       "      <td>-0.147592</td>\n",
       "      <td>-0.149666</td>\n",
       "    </tr>\n",
       "    <tr>\n",
       "      <th>days.with.cr.line</th>\n",
       "      <td>0.099026</td>\n",
       "      <td>-0.124022</td>\n",
       "      <td>0.183297</td>\n",
       "      <td>0.336896</td>\n",
       "      <td>0.060101</td>\n",
       "      <td>0.263880</td>\n",
       "      <td>1.000000</td>\n",
       "      <td>0.229344</td>\n",
       "      <td>-0.024239</td>\n",
       "      <td>-0.041736</td>\n",
       "      <td>0.081374</td>\n",
       "      <td>0.071826</td>\n",
       "      <td>-0.029237</td>\n",
       "    </tr>\n",
       "    <tr>\n",
       "      <th>revol.bal</th>\n",
       "      <td>-0.187518</td>\n",
       "      <td>0.092527</td>\n",
       "      <td>0.233625</td>\n",
       "      <td>0.372140</td>\n",
       "      <td>0.188748</td>\n",
       "      <td>-0.015553</td>\n",
       "      <td>0.229344</td>\n",
       "      <td>1.000000</td>\n",
       "      <td>0.203779</td>\n",
       "      <td>0.022394</td>\n",
       "      <td>-0.033243</td>\n",
       "      <td>-0.031010</td>\n",
       "      <td>0.053699</td>\n",
       "    </tr>\n",
       "    <tr>\n",
       "      <th>revol.util</th>\n",
       "      <td>-0.104095</td>\n",
       "      <td>0.464837</td>\n",
       "      <td>0.081356</td>\n",
       "      <td>0.054881</td>\n",
       "      <td>0.337109</td>\n",
       "      <td>-0.541289</td>\n",
       "      <td>-0.024239</td>\n",
       "      <td>0.203779</td>\n",
       "      <td>1.000000</td>\n",
       "      <td>-0.013880</td>\n",
       "      <td>-0.042740</td>\n",
       "      <td>0.066717</td>\n",
       "      <td>0.082088</td>\n",
       "    </tr>\n",
       "    <tr>\n",
       "      <th>inq.last.6mths</th>\n",
       "      <td>-0.535511</td>\n",
       "      <td>0.202780</td>\n",
       "      <td>-0.010419</td>\n",
       "      <td>0.029171</td>\n",
       "      <td>0.029189</td>\n",
       "      <td>-0.185293</td>\n",
       "      <td>-0.041736</td>\n",
       "      <td>0.022394</td>\n",
       "      <td>-0.013880</td>\n",
       "      <td>1.000000</td>\n",
       "      <td>0.021245</td>\n",
       "      <td>0.072673</td>\n",
       "      <td>0.149452</td>\n",
       "    </tr>\n",
       "    <tr>\n",
       "      <th>delinq.2yrs</th>\n",
       "      <td>-0.076318</td>\n",
       "      <td>0.156079</td>\n",
       "      <td>-0.004368</td>\n",
       "      <td>0.029203</td>\n",
       "      <td>-0.021792</td>\n",
       "      <td>-0.216340</td>\n",
       "      <td>0.081374</td>\n",
       "      <td>-0.033243</td>\n",
       "      <td>-0.042740</td>\n",
       "      <td>0.021245</td>\n",
       "      <td>1.000000</td>\n",
       "      <td>0.009184</td>\n",
       "      <td>0.008881</td>\n",
       "    </tr>\n",
       "    <tr>\n",
       "      <th>pub.rec</th>\n",
       "      <td>-0.054243</td>\n",
       "      <td>0.098162</td>\n",
       "      <td>-0.032760</td>\n",
       "      <td>0.016506</td>\n",
       "      <td>0.006209</td>\n",
       "      <td>-0.147592</td>\n",
       "      <td>0.071826</td>\n",
       "      <td>-0.031010</td>\n",
       "      <td>0.066717</td>\n",
       "      <td>0.072673</td>\n",
       "      <td>0.009184</td>\n",
       "      <td>1.000000</td>\n",
       "      <td>0.048634</td>\n",
       "    </tr>\n",
       "    <tr>\n",
       "      <th>not.fully.paid</th>\n",
       "      <td>-0.158119</td>\n",
       "      <td>0.159552</td>\n",
       "      <td>0.049955</td>\n",
       "      <td>-0.033439</td>\n",
       "      <td>0.037362</td>\n",
       "      <td>-0.149666</td>\n",
       "      <td>-0.029237</td>\n",
       "      <td>0.053699</td>\n",
       "      <td>0.082088</td>\n",
       "      <td>0.149452</td>\n",
       "      <td>0.008881</td>\n",
       "      <td>0.048634</td>\n",
       "      <td>1.000000</td>\n",
       "    </tr>\n",
       "  </tbody>\n",
       "</table>\n",
       "</div>"
      ],
      "text/plain": [
       "                   credit.policy  int.rate  installment  log.annual.inc  \\\n",
       "credit.policy           1.000000 -0.294089     0.058770        0.034906   \n",
       "int.rate               -0.294089  1.000000     0.276140        0.056383   \n",
       "installment             0.058770  0.276140     1.000000        0.448102   \n",
       "log.annual.inc          0.034906  0.056383     0.448102        1.000000   \n",
       "dti                    -0.090901  0.220006     0.050202       -0.054065   \n",
       "fico                    0.348319 -0.714821     0.086039        0.114576   \n",
       "days.with.cr.line       0.099026 -0.124022     0.183297        0.336896   \n",
       "revol.bal              -0.187518  0.092527     0.233625        0.372140   \n",
       "revol.util             -0.104095  0.464837     0.081356        0.054881   \n",
       "inq.last.6mths         -0.535511  0.202780    -0.010419        0.029171   \n",
       "delinq.2yrs            -0.076318  0.156079    -0.004368        0.029203   \n",
       "pub.rec                -0.054243  0.098162    -0.032760        0.016506   \n",
       "not.fully.paid         -0.158119  0.159552     0.049955       -0.033439   \n",
       "\n",
       "                        dti      fico  days.with.cr.line  revol.bal  \\\n",
       "credit.policy     -0.090901  0.348319           0.099026  -0.187518   \n",
       "int.rate           0.220006 -0.714821          -0.124022   0.092527   \n",
       "installment        0.050202  0.086039           0.183297   0.233625   \n",
       "log.annual.inc    -0.054065  0.114576           0.336896   0.372140   \n",
       "dti                1.000000 -0.241191           0.060101   0.188748   \n",
       "fico              -0.241191  1.000000           0.263880  -0.015553   \n",
       "days.with.cr.line  0.060101  0.263880           1.000000   0.229344   \n",
       "revol.bal          0.188748 -0.015553           0.229344   1.000000   \n",
       "revol.util         0.337109 -0.541289          -0.024239   0.203779   \n",
       "inq.last.6mths     0.029189 -0.185293          -0.041736   0.022394   \n",
       "delinq.2yrs       -0.021792 -0.216340           0.081374  -0.033243   \n",
       "pub.rec            0.006209 -0.147592           0.071826  -0.031010   \n",
       "not.fully.paid     0.037362 -0.149666          -0.029237   0.053699   \n",
       "\n",
       "                   revol.util  inq.last.6mths  delinq.2yrs   pub.rec  \\\n",
       "credit.policy       -0.104095       -0.535511    -0.076318 -0.054243   \n",
       "int.rate             0.464837        0.202780     0.156079  0.098162   \n",
       "installment          0.081356       -0.010419    -0.004368 -0.032760   \n",
       "log.annual.inc       0.054881        0.029171     0.029203  0.016506   \n",
       "dti                  0.337109        0.029189    -0.021792  0.006209   \n",
       "fico                -0.541289       -0.185293    -0.216340 -0.147592   \n",
       "days.with.cr.line   -0.024239       -0.041736     0.081374  0.071826   \n",
       "revol.bal            0.203779        0.022394    -0.033243 -0.031010   \n",
       "revol.util           1.000000       -0.013880    -0.042740  0.066717   \n",
       "inq.last.6mths      -0.013880        1.000000     0.021245  0.072673   \n",
       "delinq.2yrs         -0.042740        0.021245     1.000000  0.009184   \n",
       "pub.rec              0.066717        0.072673     0.009184  1.000000   \n",
       "not.fully.paid       0.082088        0.149452     0.008881  0.048634   \n",
       "\n",
       "                   not.fully.paid  \n",
       "credit.policy           -0.158119  \n",
       "int.rate                 0.159552  \n",
       "installment              0.049955  \n",
       "log.annual.inc          -0.033439  \n",
       "dti                      0.037362  \n",
       "fico                    -0.149666  \n",
       "days.with.cr.line       -0.029237  \n",
       "revol.bal                0.053699  \n",
       "revol.util               0.082088  \n",
       "inq.last.6mths           0.149452  \n",
       "delinq.2yrs              0.008881  \n",
       "pub.rec                  0.048634  \n",
       "not.fully.paid           1.000000  "
      ]
     },
     "execution_count": 7,
     "metadata": {},
     "output_type": "execute_result"
    }
   ],
   "source": [
    "df.corr()"
   ]
  },
  {
   "cell_type": "code",
   "execution_count": 9,
   "id": "996001b9",
   "metadata": {},
   "outputs": [
    {
     "data": {
      "text/plain": [
       "<AxesSubplot:>"
      ]
     },
     "execution_count": 9,
     "metadata": {},
     "output_type": "execute_result"
    },
    {
     "data": {
      "image/png": "[encoded data removed]",
      "text/plain": [
       "<Figure size 720x720 with 2 Axes>"
      ]
     },
     "metadata": {
      "needs_background": "light"
     },
     "output_type": "display_data"
    }
   ],
   "source": [
    "plt.figure(figsize=(10,10))\n",
    "sns.heatmap(df.corr(),annot=True)"
   ]
  },
  {
   "cell_type": "code",
   "execution_count": 13,
   "id": "dc61d510",
   "metadata": {},
   "outputs": [
    {
     "data": {
      "text/plain": [
       "<AxesSubplot:>"
      ]
     },
     "execution_count": 13,
     "metadata": {},
     "output_type": "execute_result"
    },
    {
     "data": {
      "image/png": "[encoded data removed]",
      "text/plain": [
       "<Figure size 432x288 with 1 Axes>"
      ]
     },
     "metadata": {
      "needs_background": "light"
     },
     "output_type": "display_data"
    }
   ],
   "source": [
    "df['int.rate'].hist()"
   ]
  },
  {
   "cell_type": "code",
   "execution_count": 14,
   "id": "137fee02",
   "metadata": {},
   "outputs": [
    {
     "data": {
      "text/plain": [
       "<AxesSubplot:>"
      ]
     },
     "execution_count": 14,
     "metadata": {},
     "output_type": "execute_result"
    },
    {
     "data": {
      "image/png": "[encoded data removed]",
      "text/plain": [
       "<Figure size 432x288 with 1 Axes>"
      ]
     },
     "metadata": {
      "needs_background": "light"
     },
     "output_type": "display_data"
    }
   ],
   "source": [
    "df['log.annual.inc'].hist()"
   ]
  },
  {
   "cell_type": "code",
   "execution_count": 15,
   "id": "6ad92a3a",
   "metadata": {},
   "outputs": [
    {
     "data": {
      "text/plain": [
       "<AxesSubplot:>"
      ]
     },
     "execution_count": 15,
     "metadata": {},
     "output_type": "execute_result"
    },
    {
     "data": {
      "image/png": "[encoded data removed]",
      "text/plain": [
       "<Figure size 432x288 with 1 Axes>"
      ]
     },
     "metadata": {
      "needs_background": "light"
     },
     "output_type": "display_data"
    }
   ],
   "source": [
    "df['dti'].hist()"
   ]
  },
  {
   "cell_type": "code",
   "execution_count": 16,
   "id": "3a4eb51b",
   "metadata": {},
   "outputs": [
    {
     "data": {
      "text/plain": [
       "<AxesSubplot:>"
      ]
     },
     "execution_count": 16,
     "metadata": {},
     "output_type": "execute_result"
    },
    {
     "data": {
      "image/png": "[encoded data removed]",
      "text/plain": [
       "<Figure size 432x288 with 1 Axes>"
      ]
     },
     "metadata": {
      "needs_background": "light"
     },
     "output_type": "display_data"
    }
   ],
   "source": [
    "df['fico'].hist()"
   ]
  },
  {
   "cell_type": "code",
   "execution_count": 17,
   "id": "60b385bd",
   "metadata": {},
   "outputs": [
    {
     "data": {
      "text/plain": [
       "<AxesSubplot:>"
      ]
     },
     "execution_count": 17,
     "metadata": {},
     "output_type": "execute_result"
    },
    {
     "data": {
      "image/png": "[encoded data removed]",
      "text/plain": [
       "<Figure size 432x288 with 1 Axes>"
      ]
     },
     "metadata": {
      "needs_background": "light"
     },
     "output_type": "display_data"
    }
   ],
   "source": [
    "df['days.with.cr.line'].hist()"
   ]
  },
  {
   "cell_type": "code",
   "execution_count": 18,
   "id": "359e3ae3",
   "metadata": {},
   "outputs": [
    {
     "data": {
      "text/plain": [
       "<AxesSubplot:>"
      ]
     },
     "execution_count": 18,
     "metadata": {},
     "output_type": "execute_result"
    },
    {
     "data": {
      "image/png": "[encoded data removed]",
      "text/plain": [
       "<Figure size 432x288 with 1 Axes>"
      ]
     },
     "metadata": {
      "needs_background": "light"
     },
     "output_type": "display_data"
    }
   ],
   "source": [
    "df['revol.util'].hist()"
   ]
  },
  {
   "cell_type": "code",
   "execution_count": 19,
   "id": "799d1868",
   "metadata": {},
   "outputs": [
    {
     "data": {
      "text/plain": [
       "<AxesSubplot:>"
      ]
     },
     "execution_count": 19,
     "metadata": {},
     "output_type": "execute_result"
    },
    {
     "data": {
      "image/png": "[encoded data removed]",
      "text/plain": [
       "<Figure size 432x288 with 1 Axes>"
      ]
     },
     "metadata": {
      "needs_background": "light"
     },
     "output_type": "display_data"
    }
   ],
   "source": [
    "df['inq.last.6mths'].hist()"
   ]
  },
  {
   "cell_type": "code",
   "execution_count": 20,
   "id": "cbdadec7",
   "metadata": {},
   "outputs": [
    {
     "data": {
      "text/plain": [
       "<AxesSubplot:>"
      ]
     },
     "execution_count": 20,
     "metadata": {},
     "output_type": "execute_result"
    },
    {
     "data": {
      "image/png": "[encoded data removed]",
      "text/plain": [
       "<Figure size 432x288 with 1 Axes>"
      ]
     },
     "metadata": {
      "needs_background": "light"
     },
     "output_type": "display_data"
    }
   ],
   "source": [
    "df['delinq.2yrs'].hist()"
   ]
  },
  {
   "cell_type": "code",
   "execution_count": 21,
   "id": "8d2da1db",
   "metadata": {},
   "outputs": [
    {
     "data": {
      "text/plain": [
       "<AxesSubplot:>"
      ]
     },
     "execution_count": 21,
     "metadata": {},
     "output_type": "execute_result"
    },
    {
     "data": {
      "image/png": "[encoded data removed]",
      "text/plain": [
       "<Figure size 432x288 with 1 Axes>"
      ]
     },
     "metadata": {
      "needs_background": "light"
     },
     "output_type": "display_data"
    }
   ],
   "source": [
    "df['pub.rec'].hist()"
   ]
  },
  {
   "cell_type": "code",
   "execution_count": 24,
   "id": "a612d24c",
   "metadata": {},
   "outputs": [
    {
     "data": {
      "text/plain": [
       "<AxesSubplot:xlabel='purpose'>"
      ]
     },
     "execution_count": 24,
     "metadata": {},
     "output_type": "execute_result"
    },
    {
     "data": {
      "image/png": "[encoded data removed]",
      "text/plain": [
       "<Figure size 432x288 with 1 Axes>"
      ]
     },
     "metadata": {
      "needs_background": "light"
     },
     "output_type": "display_data"
    }
   ],
   "source": [
    "df.groupby('purpose')[\"not.fully.paid\"].sum().plot(kind='bar')"
   ]
  },
  {
   "cell_type": "code",
   "execution_count": 25,
   "id": "9d34669f",
   "metadata": {},
   "outputs": [],
   "source": [
    "def classification_funct(dataset,column_to_be_studied):\n",
    "    from sklearn.naive_bayes import GaussianNB\n",
    "    from sklearn.naive_bayes import BernoulliNB\n",
    "    from sklearn.svm import SVC\n",
    "    from sklearn.neighbors import KNeighborsClassifier\n",
    "    from sklearn.tree import DecisionTreeClassifier\n",
    "    from sklearn.ensemble import RandomForestClassifier\n",
    "    from sklearn.linear_model import LogisticRegression\n",
    "    from xgboost import XGBClassifier #yüklemek için !pip install xgboost kullandım\n",
    "    \n",
    "    from sklearn.model_selection import train_test_split\n",
    "    \n",
    "    from sklearn.metrics import accuracy_score,precision_score,recall_score,f1_score\n",
    "    from sklearn.metrics import confusion_matrix,classification_report\n",
    "       \n",
    "    dataset=dataset[dataset[column_to_be_studied].notnull()]\n",
    "    x,y=dataset.drop(column_to_be_studied,axis=1),dataset[[column_to_be_studied]]    \n",
    "    x=pd.get_dummies(x,drop_first=True)\n",
    "    x_train,x_test,y_train,y_test=train_test_split(x,y,test_size=0.2,random_state=42)\n",
    "\n",
    "    g=GaussianNB()\n",
    "    b=BernoulliNB()\n",
    "    KN=KNeighborsClassifier()\n",
    "    SVC=SVC() \n",
    "    D=DecisionTreeClassifier()\n",
    "    R=RandomForestClassifier()\n",
    "    Log=LogisticRegression()\n",
    "    XGB=XGBClassifier()\n",
    "    \n",
    "    algos=[g,b,KN,SVC,D,R,Log,XGB]\n",
    "    algo_names=['GaussianNB','BernoulliNB','KNeighborsClassifier','SVC','DecisionTreeClassifier','RandomForestClassifier','LogisticRegression','XGBClassifier']\n",
    "   \n",
    "    accuracy_scored=[]\n",
    "    precision_scored=[]\n",
    "    recall_scored=[]\n",
    "    f1_scored=[]\n",
    "    \n",
    "    for item in algos:\n",
    "        item.fit(x_train,y_train)\n",
    "        item.predict(x_test)\n",
    "        accuracy_scored.append(accuracy_score(y_test,item.predict(x_test)))\n",
    "        precision_scored.append(precision_score(y_test,item.predict(x_test)))\n",
    "        recall_scored.append(recall_score(y_test,item.predict(x_test)))\n",
    "        f1_scored.append(f1_score(y_test,item.predict(x_test)))\n",
    "      \n",
    "    result=pd.DataFrame(columns=['f1_score','recall_score','precision_score','accuracy_score'],index=algo_names)\n",
    "    result['f1_score']=f1_scored\n",
    "    result['recall_score']=recall_scored\n",
    "    result['precision_score']=precision_scored\n",
    "    result['accuracy_score']=accuracy_scored\n",
    "    return result.sort_values('accuracy_score',ascending=False)"
   ]
  },
  {
   "cell_type": "code",
   "execution_count": 26,
   "id": "59bac8b7",
   "metadata": {},
   "outputs": [
    {
     "name": "stdout",
     "output_type": "stream",
     "text": [
      "[16:52:44] WARNING: C:/Users/Administrator/workspace/xgboost-win64_release_1.4.0/src/learner.cc:1095: Starting in XGBoost 1.3.0, the default evaluation metric used with the objective 'binary:logistic' was changed from 'error' to 'logloss'. Explicitly set eval_metric if you'd like to restore the old behavior.\n"
     ]
    },
    {
     "data": {
      "text/html": [
       "<div>\n",
       "<style scoped>\n",
       "    .dataframe tbody tr th:only-of-type {\n",
       "        vertical-align: middle;\n",
       "    }\n",
       "\n",
       "    .dataframe tbody tr th {\n",
       "        vertical-align: top;\n",
       "    }\n",
       "\n",
       "    .dataframe thead th {\n",
       "        text-align: right;\n",
       "    }\n",
       "</style>\n",
       "<table border=\"1\" class=\"dataframe\">\n",
       "  <thead>\n",
       "    <tr style=\"text-align: right;\">\n",
       "      <th></th>\n",
       "      <th>f1_score</th>\n",
       "      <th>recall_score</th>\n",
       "      <th>precision_score</th>\n",
       "      <th>accuracy_score</th>\n",
       "    </tr>\n",
       "  </thead>\n",
       "  <tbody>\n",
       "    <tr>\n",
       "      <th>BernoulliNB</th>\n",
       "      <td>0.013029</td>\n",
       "      <td>0.006557</td>\n",
       "      <td>1.000000</td>\n",
       "      <td>0.841858</td>\n",
       "    </tr>\n",
       "    <tr>\n",
       "      <th>LogisticRegression</th>\n",
       "      <td>0.006536</td>\n",
       "      <td>0.003279</td>\n",
       "      <td>1.000000</td>\n",
       "      <td>0.841336</td>\n",
       "    </tr>\n",
       "    <tr>\n",
       "      <th>SVC</th>\n",
       "      <td>0.000000</td>\n",
       "      <td>0.000000</td>\n",
       "      <td>0.000000</td>\n",
       "      <td>0.840292</td>\n",
       "    </tr>\n",
       "    <tr>\n",
       "      <th>RandomForestClassifier</th>\n",
       "      <td>0.043344</td>\n",
       "      <td>0.022951</td>\n",
       "      <td>0.388889</td>\n",
       "      <td>0.838727</td>\n",
       "    </tr>\n",
       "    <tr>\n",
       "      <th>XGBClassifier</th>\n",
       "      <td>0.111111</td>\n",
       "      <td>0.068852</td>\n",
       "      <td>0.287671</td>\n",
       "      <td>0.824635</td>\n",
       "    </tr>\n",
       "    <tr>\n",
       "      <th>GaussianNB</th>\n",
       "      <td>0.139303</td>\n",
       "      <td>0.091803</td>\n",
       "      <td>0.288660</td>\n",
       "      <td>0.819415</td>\n",
       "    </tr>\n",
       "    <tr>\n",
       "      <th>KNeighborsClassifier</th>\n",
       "      <td>0.077320</td>\n",
       "      <td>0.049180</td>\n",
       "      <td>0.180723</td>\n",
       "      <td>0.813152</td>\n",
       "    </tr>\n",
       "    <tr>\n",
       "      <th>DecisionTreeClassifier</th>\n",
       "      <td>0.220155</td>\n",
       "      <td>0.232787</td>\n",
       "      <td>0.208824</td>\n",
       "      <td>0.737474</td>\n",
       "    </tr>\n",
       "  </tbody>\n",
       "</table>\n",
       "</div>"
      ],
      "text/plain": [
       "                        f1_score  recall_score  precision_score  \\\n",
       "BernoulliNB             0.013029      0.006557         1.000000   \n",
       "LogisticRegression      0.006536      0.003279         1.000000   \n",
       "SVC                     0.000000      0.000000         0.000000   \n",
       "RandomForestClassifier  0.043344      0.022951         0.388889   \n",
       "XGBClassifier           0.111111      0.068852         0.287671   \n",
       "GaussianNB              0.139303      0.091803         0.288660   \n",
       "KNeighborsClassifier    0.077320      0.049180         0.180723   \n",
       "DecisionTreeClassifier  0.220155      0.232787         0.208824   \n",
       "\n",
       "                        accuracy_score  \n",
       "BernoulliNB                   0.841858  \n",
       "LogisticRegression            0.841336  \n",
       "SVC                           0.840292  \n",
       "RandomForestClassifier        0.838727  \n",
       "XGBClassifier                 0.824635  \n",
       "GaussianNB                    0.819415  \n",
       "KNeighborsClassifier          0.813152  \n",
       "DecisionTreeClassifier        0.737474  "
      ]
     },
     "execution_count": 26,
     "metadata": {},
     "output_type": "execute_result"
    }
   ],
   "source": [
    "classification_funct(df,\"not.fully.paid\")"
   ]
  },
  {
   "cell_type": "markdown",
   "id": "245e4254",
   "metadata": {},
   "source": [
    "## Deep Learning Uygulanırsa?"
   ]
  },
  {
   "cell_type": "code",
   "execution_count": 27,
   "id": "a8164af1",
   "metadata": {},
   "outputs": [],
   "source": [
    "from tensorflow.keras.models import Sequential\n",
    "from tensorflow.keras.layers import Dense"
   ]
  },
  {
   "cell_type": "code",
   "execution_count": 28,
   "id": "1e114c85",
   "metadata": {},
   "outputs": [],
   "source": [
    "model=Sequential()\n",
    "model.add(Dense(512,activation='relu'))\n",
    "model.add(Dense(512,activation='relu'))\n",
    "model.add(Dense(512,activation='relu'))\n",
    "model.add(Dense(512,activation='relu'))\n",
    "model.add(Dense(1,activation='sigmoid'))"
   ]
  },
  {
   "cell_type": "code",
   "execution_count": 29,
   "id": "21f93dec",
   "metadata": {},
   "outputs": [],
   "source": [
    "model.compile(loss='binary_crossentropy',optimizer=\"adam\",metrics=[\"accuracy\"])"
   ]
  },
  {
   "cell_type": "code",
   "execution_count": 30,
   "id": "f7407f6d",
   "metadata": {},
   "outputs": [],
   "source": [
    "x,y=df.drop(\"not.fully.paid\",axis=1),df[[\"not.fully.paid\"]]    \n",
    "x=pd.get_dummies(x,drop_first=True)"
   ]
  },
  {
   "cell_type": "code",
   "execution_count": 31,
   "id": "8b264089",
   "metadata": {},
   "outputs": [
    {
     "name": "stdout",
     "output_type": "stream",
     "text": [
      "Epoch 1/50\n",
      "1916/1916 [==============================] - 14s 6ms/step - loss: 16.1185 - accuracy: 0.8122\n",
      "Epoch 2/50\n",
      "1916/1916 [==============================] - 10s 5ms/step - loss: 0.4500 - accuracy: 0.8386\n",
      "Epoch 3/50\n",
      "1916/1916 [==============================] - 10s 5ms/step - loss: 0.4678 - accuracy: 0.8383\n",
      "Epoch 4/50\n",
      "1916/1916 [==============================] - 10s 5ms/step - loss: 1.2974 - accuracy: 0.8345\n",
      "Epoch 5/50\n",
      "1916/1916 [==============================] - 10s 5ms/step - loss: 0.4409 - accuracy: 0.8399\n",
      "Epoch 6/50\n",
      "1916/1916 [==============================] - 10s 5ms/step - loss: 0.4721 - accuracy: 0.8365\n",
      "Epoch 7/50\n",
      "1916/1916 [==============================] - 10s 5ms/step - loss: 0.5110 - accuracy: 0.8388\n",
      "Epoch 8/50\n",
      "1916/1916 [==============================] - 10s 5ms/step - loss: 0.4714 - accuracy: 0.8389\n",
      "Epoch 9/50\n",
      "1916/1916 [==============================] - 10s 5ms/step - loss: 0.4426 - accuracy: 0.8395\n",
      "Epoch 10/50\n",
      "1916/1916 [==============================] - 10s 5ms/step - loss: 0.4403 - accuracy: 0.8397\n",
      "Epoch 11/50\n",
      "1916/1916 [==============================] - 9s 5ms/step - loss: 0.4409 - accuracy: 0.8399\n",
      "Epoch 12/50\n",
      "1916/1916 [==============================] - 10s 5ms/step - loss: 0.4683 - accuracy: 0.8389\n",
      "Epoch 13/50\n",
      "1916/1916 [==============================] - 11s 6ms/step - loss: 0.4399 - accuracy: 0.8399\n",
      "Epoch 14/50\n",
      "1916/1916 [==============================] - 10s 5ms/step - loss: 0.4398 - accuracy: 0.8399\n",
      "Epoch 15/50\n",
      "1916/1916 [==============================] - 9s 5ms/step - loss: 0.4398 - accuracy: 0.8399\n",
      "Epoch 16/50\n",
      "1916/1916 [==============================] - 10s 5ms/step - loss: 0.4398 - accuracy: 0.8399\n",
      "Epoch 17/50\n",
      "1916/1916 [==============================] - 10s 5ms/step - loss: 0.4398 - accuracy: 0.8399\n",
      "Epoch 18/50\n",
      "1916/1916 [==============================] - 9s 5ms/step - loss: 0.4398 - accuracy: 0.8399\n",
      "Epoch 19/50\n",
      "1916/1916 [==============================] - 11s 6ms/step - loss: 0.4398 - accuracy: 0.8399\n",
      "Epoch 20/50\n",
      "1916/1916 [==============================] - 11s 6ms/step - loss: 0.4398 - accuracy: 0.8399\n",
      "Epoch 21/50\n",
      "1916/1916 [==============================] - 12s 6ms/step - loss: 0.4398 - accuracy: 0.8399\n",
      "Epoch 22/50\n",
      "1916/1916 [==============================] - 11s 6ms/step - loss: 0.4398 - accuracy: 0.8399\n",
      "Epoch 23/50\n",
      "1916/1916 [==============================] - 11s 6ms/step - loss: 0.4398 - accuracy: 0.8399\n",
      "Epoch 24/50\n",
      "1916/1916 [==============================] - 10s 5ms/step - loss: 0.4398 - accuracy: 0.8399\n",
      "Epoch 25/50\n",
      "1916/1916 [==============================] - 10s 5ms/step - loss: 0.4398 - accuracy: 0.8399\n",
      "Epoch 26/50\n",
      "1916/1916 [==============================] - 10s 5ms/step - loss: 0.4398 - accuracy: 0.8399\n",
      "Epoch 27/50\n",
      "1916/1916 [==============================] - 10s 5ms/step - loss: 0.4398 - accuracy: 0.8399\n",
      "Epoch 28/50\n",
      "1916/1916 [==============================] - 10s 5ms/step - loss: 0.4398 - accuracy: 0.8399\n",
      "Epoch 29/50\n",
      "1916/1916 [==============================] - 10s 5ms/step - loss: 0.4398 - accuracy: 0.8399\n",
      "Epoch 30/50\n",
      "1916/1916 [==============================] - 10s 5ms/step - loss: 0.4398 - accuracy: 0.8399\n",
      "Epoch 31/50\n",
      "1916/1916 [==============================] - 10s 5ms/step - loss: 0.4398 - accuracy: 0.8399\n",
      "Epoch 32/50\n",
      "1916/1916 [==============================] - 10s 5ms/step - loss: 0.4398 - accuracy: 0.8399\n",
      "Epoch 33/50\n",
      "1916/1916 [==============================] - 9s 5ms/step - loss: 0.4398 - accuracy: 0.8399\n",
      "Epoch 34/50\n",
      "1916/1916 [==============================] - 10s 5ms/step - loss: 0.4398 - accuracy: 0.8399\n",
      "Epoch 35/50\n",
      "1916/1916 [==============================] - 10s 5ms/step - loss: 0.4398 - accuracy: 0.8399\n",
      "Epoch 36/50\n",
      "1916/1916 [==============================] - 10s 5ms/step - loss: 0.4398 - accuracy: 0.8399\n",
      "Epoch 37/50\n",
      "1916/1916 [==============================] - 9s 5ms/step - loss: 0.4398 - accuracy: 0.8399\n",
      "Epoch 38/50\n",
      "1916/1916 [==============================] - 10s 5ms/step - loss: 0.4398 - accuracy: 0.8399\n",
      "Epoch 39/50\n",
      "1916/1916 [==============================] - 11s 6ms/step - loss: 0.4398 - accuracy: 0.8399\n",
      "Epoch 40/50\n",
      "1916/1916 [==============================] - 10s 5ms/step - loss: 0.4398 - accuracy: 0.8399\n",
      "Epoch 41/50\n",
      "1916/1916 [==============================] - 11s 5ms/step - loss: 0.4398 - accuracy: 0.8399\n",
      "Epoch 42/50\n",
      "1916/1916 [==============================] - 11s 6ms/step - loss: 0.4398 - accuracy: 0.8399\n",
      "Epoch 43/50\n",
      "1916/1916 [==============================] - 9s 5ms/step - loss: 0.4398 - accuracy: 0.8399\n",
      "Epoch 44/50\n",
      "1916/1916 [==============================] - 10s 5ms/step - loss: 0.4398 - accuracy: 0.8399\n",
      "Epoch 45/50\n",
      "1916/1916 [==============================] - 11s 6ms/step - loss: 0.4398 - accuracy: 0.8399\n",
      "Epoch 46/50\n",
      "1916/1916 [==============================] - 10s 5ms/step - loss: 0.4398 - accuracy: 0.8399\n",
      "Epoch 47/50\n",
      "1916/1916 [==============================] - 11s 6ms/step - loss: 0.4398 - accuracy: 0.8399\n",
      "Epoch 48/50\n",
      "1916/1916 [==============================] - 11s 6ms/step - loss: 0.4398 - accuracy: 0.8399\n",
      "Epoch 49/50\n",
      "1916/1916 [==============================] - 9s 5ms/step - loss: 0.4398 - accuracy: 0.8399\n",
      "Epoch 50/50\n",
      "1916/1916 [==============================] - 10s 5ms/step - loss: 0.4398 - accuracy: 0.8399\n"
     ]
    },
    {
     "data": {
      "text/plain": [
       "<tensorflow.python.keras.callbacks.History at 0x229e851d490>"
      ]
     },
     "execution_count": 31,
     "metadata": {},
     "output_type": "execute_result"
    }
   ],
   "source": [
    "model.fit(x,y,epochs=50,batch_size=5,verbose=1)"
   ]
  },
  {
   "cell_type": "code",
   "execution_count": 32,
   "id": "6bd38282",
   "metadata": {},
   "outputs": [
    {
     "name": "stdout",
     "output_type": "stream",
     "text": [
      "Model: \"sequential\"\n",
      "_________________________________________________________________\n",
      "Layer (type)                 Output Shape              Param #   \n",
      "=================================================================\n",
      "dense (Dense)                (None, 512)               9728      \n",
      "_________________________________________________________________\n",
      "dense_1 (Dense)              (None, 512)               262656    \n",
      "_________________________________________________________________\n",
      "dense_2 (Dense)              (None, 512)               262656    \n",
      "_________________________________________________________________\n",
      "dense_3 (Dense)              (None, 512)               262656    \n",
      "_________________________________________________________________\n",
      "dense_4 (Dense)              (None, 1)                 513       \n",
      "=================================================================\n",
      "Total params: 798,209\n",
      "Trainable params: 798,209\n",
      "Non-trainable params: 0\n",
      "_________________________________________________________________\n"
     ]
    }
   ],
   "source": [
    "model.summary()"
   ]
  },
  {
   "cell_type": "code",
   "execution_count": 33,
   "id": "4c53f059",
   "metadata": {},
   "outputs": [
    {
     "name": "stdout",
     "output_type": "stream",
     "text": [
      "300/300 [==============================] - 1s 3ms/step - loss: 0.4398 - accuracy: 0.8399: 0s - loss: 0.4333 - accuracy: 0.84\n"
     ]
    }
   ],
   "source": [
    "scores=model.evaluate(x,y)"
   ]
  },
  {
   "cell_type": "code",
   "execution_count": 34,
   "id": "dd7d6b7c",
   "metadata": {},
   "outputs": [
    {
     "name": "stdout",
     "output_type": "stream",
     "text": [
      "accuracy: 83.99%\n"
     ]
    }
   ],
   "source": [
    "print(\"%s: %.2f%%\" % (model.metrics_names[1],scores[1]*100))"
   ]
  },
  {
   "cell_type": "code",
   "execution_count": null,
   "id": "85ad8581",
   "metadata": {},
   "outputs": [],
   "source": []
  }
 ],
 "metadata": {
  "kernelspec": {
   "display_name": "Python 3",
   "language": "python",
   "name": "python3"
  },
  "language_info": {
   "codemirror_mode": {
    "name": "ipython",
    "version": 3
   },
   "file_extension": ".py",
   "mimetype": "text/x-python",
   "name": "python",
   "nbconvert_exporter": "python",
   "pygments_lexer": "ipython3",
   "version": "3.8.8"
  }
 },
 "nbformat": 4,
 "nbformat_minor": 5
}
